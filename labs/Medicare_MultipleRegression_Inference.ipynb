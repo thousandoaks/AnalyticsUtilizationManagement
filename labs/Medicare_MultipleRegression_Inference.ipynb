{
  "nbformat": 4,
  "nbformat_minor": 0,
  "metadata": {
    "colab": {
      "provenance": [],
      "authorship_tag": "ABX9TyPnvUa/g76mpf74fVttLT2c"
    },
    "kernelspec": {
      "name": "python3",
      "display_name": "Python 3"
    },
    "language_info": {
      "name": "python"
    }
  },
  "cells": [
    {
      "cell_type": "markdown",
      "source": [
        "![](http://www.kiplinger.com/kipimages/pages/14024.jpg)\n",
        "\n",
        "# An Extensive Medicare Data Exploration - Healthcare Analysis\n",
        "\n",
        "## About Medicare \n",
        "\n",
        "In the United States, Medicare is a single-payer, national social insurance program administered by the U.S. federal government since 1966. United States Medicare is funded by a payroll tax, premiums and surtaxes from beneficiaries, and general revenue. It provides health insurance for Americans aged 65 and older who have worked and paid into the system through the payroll tax. It also provides health insurance to younger people with some disability status as determined by the Social Security Administration, as well as people with end stage renal disease and amyotrophic lateral sclerosis.\n",
        "\n",
        "In 2015, Medicare provided health insurance for over **55 million** (46 million people age 65 and older and 9 million younger people). On average, Medicare covers about half of the health care charges for those enrolled. The enrollees must then cover their remaining costs either with supplemental insurance, separate insurance, or out-of-pocket. Out-of-pocket costs can vary depending on the amount of health care a Medicare enrollee needs. \n",
        "\n",
        "## About CMS\n",
        "\n",
        "The Centers for Medicare & Medicaid Services (CMS), previously known as the Health Care Financing Administration (HCFA), is a federal agency within the United States Department of Health and Human Services (HHS) that administers the Medicare program and works in partnership with state governments to administer Medicaid, the Children's Health Insurance Program (CHIP), and health insurance portability standards. In addition to these programs, CMS has other responsibilities, including the administrative simplification standards from the Health Insurance Portability and Accountability Act of 1996 (HIPAA), quality standards in long-term care facilities (more commonly referred to as nursing homes) through its survey and certification process, clinical laboratory quality standards under the Clinical Laboratory Improvement Amendments, and oversight of HealthCare.gov.\n",
        "\n",
        "## About the Data-Set\n",
        "\n",
        "This [public dataset](https://www.kaggle.com/cms/cms-medicare) was created by the Centers for Medicare & Medicaid Services. The data summarizes the utilization and payments for procedures, services, and prescription drugs provided to Medicare beneficiaries by specific inpatient and outpatient hospitals, physicians, and other suppliers. The dataset includes the following data: Common inpatient and outpatient services, All physician and other supplier procedures and services, All Part D prescriptions. Providers determine what they will charge for items, services, and procedures provided to patients and these charges are the amount that providers bill for an item, service, or procedure.\n",
        "\n",
        "\n",
        "\n",
        "## Contents\n",
        "\n",
        "1. Multiple Regression\n",
        "\n",
        "&nbsp;&nbsp;&nbsp;&nbsp;  1.1 Model fitting\n",
        "\n",
        "\n",
        "&nbsp;&nbsp;&nbsp;&nbsp;  1.2 t-Tests,F-tests\n",
        "\n",
        "  \n",
        "&nbsp;&nbsp;&nbsp;&nbsp;  1.3 Model interpretation\n",
        "\n",
        "\n",
        "\n"
      ],
      "metadata": {
        "id": "5bKFL6W_dO-r"
      }
    },
    {
      "cell_type": "code",
      "execution_count": 3,
      "metadata": {
        "id": "pw_Ur5bnZAhe"
      },
      "outputs": [],
      "source": [
        "import seaborn as sns\n",
        "import matplotlib.pyplot as plt\n",
        "\n",
        "import warnings\n",
        "warnings.filterwarnings(\"ignore\")\n",
        "\n",
        "import pandas as pd\n",
        "from plotly.offline import init_notebook_mode, iplot\n",
        "import plotly.express as px\n",
        "\n",
        "import plotly.graph_objects as go\n",
        "\n",
        "import statsmodels.formula.api as smf"
      ]
    },
    {
      "cell_type": "code",
      "source": [
        "nursingFacilities=pd.read_csv('https://raw.githubusercontent.com/thousandoaks/AnalyticsUtilizationManagement/main/data/nursing_facilities_2014.csv')"
      ],
      "metadata": {
        "id": "HM9SINApZUX_"
      },
      "execution_count": 4,
      "outputs": []
    },
    {
      "cell_type": "code",
      "source": [
        "nursingFacilities.head()"
      ],
      "metadata": {
        "colab": {
          "base_uri": "https://localhost:8080/",
          "height": 525
        },
        "id": "E16JwNPJdCp9",
        "outputId": "41460d8d-4f83-4f75-f50a-fd385b302c3e"
      },
      "execution_count": 5,
      "outputs": [
        {
          "output_type": "execute_result",
          "data": {
            "text/plain": [
              "   Unnamed: 0  provider_id                                facility_name  \\\n",
              "0           0       235618          HEARTLAND HEALTH CARE CENTER-CANTON   \n",
              "1           1       495217          MANORCARE HEALTH SERVICES-FAIR OAKS   \n",
              "2           2       495121  CHERRYDALE HEALTH AND REHABILITATION CENTER   \n",
              "3           3       225554                               COOLIDGE HOUSE   \n",
              "4           4       235663              NOTTING HILL OF WEST BLOOMFIELD   \n",
              "\n",
              "                       street_address          city state  zip_code  \\\n",
              "0                    7025 LILLEY ROAD        CANTON    MI     48187   \n",
              "1  12475 LEE JACKSON MEMORIAL HIGHWAY       FAIRFAX    VA     22033   \n",
              "2                    3710 LEE HIGHWAY     ARLINGTON    VA     22207   \n",
              "3                   30 WEBSTER STREET     BROOKLINE    MA      2446   \n",
              "4                     6535 DRAKE ROAD  W BLOOMFIELD    MI     48322   \n",
              "\n",
              "   total_stays  distinct_beneficiaries_per_provider  \\\n",
              "0         1104                                  829   \n",
              "1          436                                  350   \n",
              "2          353                                  289   \n",
              "3          368                                  297   \n",
              "4          871                                  697   \n",
              "\n",
              "   average_length_of_stays_days  ...  percent_of_beneficiaries_with_copd  \\\n",
              "0                          25.1  ...                                40.0   \n",
              "1                          26.3  ...                                29.0   \n",
              "2                          23.1  ...                                34.0   \n",
              "3                          19.5  ...                                16.0   \n",
              "4                          27.2  ...                                29.0   \n",
              "\n",
              "   percent_of_beneficiaries_with_depression  \\\n",
              "0                                      51.0   \n",
              "1                                      43.0   \n",
              "2                                      49.0   \n",
              "3                                      55.0   \n",
              "4                                      50.0   \n",
              "\n",
              "   percent_of_beneficiaries_with_diabetes  \\\n",
              "0                                    47.0   \n",
              "1                                    46.0   \n",
              "2                                    49.0   \n",
              "3                                    46.0   \n",
              "4                                    49.0   \n",
              "\n",
              "   percent_of_beneficiaries_with_hyperlipidemia  \\\n",
              "0                                          70.0   \n",
              "1                                          72.0   \n",
              "2                                          67.0   \n",
              "3                                          68.0   \n",
              "4                                          74.0   \n",
              "\n",
              "   percent_of_beneficiaries_with_hypertension  \\\n",
              "0                                         NaN   \n",
              "1                                         NaN   \n",
              "2                                         NaN   \n",
              "3                                         NaN   \n",
              "4                                         NaN   \n",
              "\n",
              "   percent_of_beneficiaries_with_ihd  \\\n",
              "0                               68.0   \n",
              "1                               54.0   \n",
              "2                               50.0   \n",
              "3                               45.0   \n",
              "4                               67.0   \n",
              "\n",
              "   percent_of_beneficiaries_with_osteoporosis  \\\n",
              "0                                        20.0   \n",
              "1                                        17.0   \n",
              "2                                        14.0   \n",
              "3                                        25.0   \n",
              "4                                        23.0   \n",
              "\n",
              "   percent_of_beneficiaries_with_ra_oa  \\\n",
              "0                                 69.0   \n",
              "1                                 53.0   \n",
              "2                                 47.0   \n",
              "3                                 65.0   \n",
              "4                                 70.0   \n",
              "\n",
              "   percent_of_beneficiaries_with_schizophrenia  \\\n",
              "0                                         10.0   \n",
              "1                                         11.0   \n",
              "2                                         24.0   \n",
              "3                                         15.0   \n",
              "4                                         10.0   \n",
              "\n",
              "   percent_of_beneficiaries_with_stroke  \n",
              "0                                    17  \n",
              "1                                    19  \n",
              "2                                    19  \n",
              "3                                    12  \n",
              "4                                    17  \n",
              "\n",
              "[5 rows x 42 columns]"
            ],
            "text/html": [
              "\n",
              "  <div id=\"df-a6480aec-8f8b-44ec-a9a4-4e83840cfd91\">\n",
              "    <div class=\"colab-df-container\">\n",
              "      <div>\n",
              "<style scoped>\n",
              "    .dataframe tbody tr th:only-of-type {\n",
              "        vertical-align: middle;\n",
              "    }\n",
              "\n",
              "    .dataframe tbody tr th {\n",
              "        vertical-align: top;\n",
              "    }\n",
              "\n",
              "    .dataframe thead th {\n",
              "        text-align: right;\n",
              "    }\n",
              "</style>\n",
              "<table border=\"1\" class=\"dataframe\">\n",
              "  <thead>\n",
              "    <tr style=\"text-align: right;\">\n",
              "      <th></th>\n",
              "      <th>Unnamed: 0</th>\n",
              "      <th>provider_id</th>\n",
              "      <th>facility_name</th>\n",
              "      <th>street_address</th>\n",
              "      <th>city</th>\n",
              "      <th>state</th>\n",
              "      <th>zip_code</th>\n",
              "      <th>total_stays</th>\n",
              "      <th>distinct_beneficiaries_per_provider</th>\n",
              "      <th>average_length_of_stays_days</th>\n",
              "      <th>...</th>\n",
              "      <th>percent_of_beneficiaries_with_copd</th>\n",
              "      <th>percent_of_beneficiaries_with_depression</th>\n",
              "      <th>percent_of_beneficiaries_with_diabetes</th>\n",
              "      <th>percent_of_beneficiaries_with_hyperlipidemia</th>\n",
              "      <th>percent_of_beneficiaries_with_hypertension</th>\n",
              "      <th>percent_of_beneficiaries_with_ihd</th>\n",
              "      <th>percent_of_beneficiaries_with_osteoporosis</th>\n",
              "      <th>percent_of_beneficiaries_with_ra_oa</th>\n",
              "      <th>percent_of_beneficiaries_with_schizophrenia</th>\n",
              "      <th>percent_of_beneficiaries_with_stroke</th>\n",
              "    </tr>\n",
              "  </thead>\n",
              "  <tbody>\n",
              "    <tr>\n",
              "      <th>0</th>\n",
              "      <td>0</td>\n",
              "      <td>235618</td>\n",
              "      <td>HEARTLAND HEALTH CARE CENTER-CANTON</td>\n",
              "      <td>7025 LILLEY ROAD</td>\n",
              "      <td>CANTON</td>\n",
              "      <td>MI</td>\n",
              "      <td>48187</td>\n",
              "      <td>1104</td>\n",
              "      <td>829</td>\n",
              "      <td>25.1</td>\n",
              "      <td>...</td>\n",
              "      <td>40.0</td>\n",
              "      <td>51.0</td>\n",
              "      <td>47.0</td>\n",
              "      <td>70.0</td>\n",
              "      <td>NaN</td>\n",
              "      <td>68.0</td>\n",
              "      <td>20.0</td>\n",
              "      <td>69.0</td>\n",
              "      <td>10.0</td>\n",
              "      <td>17</td>\n",
              "    </tr>\n",
              "    <tr>\n",
              "      <th>1</th>\n",
              "      <td>1</td>\n",
              "      <td>495217</td>\n",
              "      <td>MANORCARE HEALTH SERVICES-FAIR OAKS</td>\n",
              "      <td>12475 LEE JACKSON MEMORIAL HIGHWAY</td>\n",
              "      <td>FAIRFAX</td>\n",
              "      <td>VA</td>\n",
              "      <td>22033</td>\n",
              "      <td>436</td>\n",
              "      <td>350</td>\n",
              "      <td>26.3</td>\n",
              "      <td>...</td>\n",
              "      <td>29.0</td>\n",
              "      <td>43.0</td>\n",
              "      <td>46.0</td>\n",
              "      <td>72.0</td>\n",
              "      <td>NaN</td>\n",
              "      <td>54.0</td>\n",
              "      <td>17.0</td>\n",
              "      <td>53.0</td>\n",
              "      <td>11.0</td>\n",
              "      <td>19</td>\n",
              "    </tr>\n",
              "    <tr>\n",
              "      <th>2</th>\n",
              "      <td>2</td>\n",
              "      <td>495121</td>\n",
              "      <td>CHERRYDALE HEALTH AND REHABILITATION CENTER</td>\n",
              "      <td>3710 LEE HIGHWAY</td>\n",
              "      <td>ARLINGTON</td>\n",
              "      <td>VA</td>\n",
              "      <td>22207</td>\n",
              "      <td>353</td>\n",
              "      <td>289</td>\n",
              "      <td>23.1</td>\n",
              "      <td>...</td>\n",
              "      <td>34.0</td>\n",
              "      <td>49.0</td>\n",
              "      <td>49.0</td>\n",
              "      <td>67.0</td>\n",
              "      <td>NaN</td>\n",
              "      <td>50.0</td>\n",
              "      <td>14.0</td>\n",
              "      <td>47.0</td>\n",
              "      <td>24.0</td>\n",
              "      <td>19</td>\n",
              "    </tr>\n",
              "    <tr>\n",
              "      <th>3</th>\n",
              "      <td>3</td>\n",
              "      <td>225554</td>\n",
              "      <td>COOLIDGE HOUSE</td>\n",
              "      <td>30 WEBSTER STREET</td>\n",
              "      <td>BROOKLINE</td>\n",
              "      <td>MA</td>\n",
              "      <td>2446</td>\n",
              "      <td>368</td>\n",
              "      <td>297</td>\n",
              "      <td>19.5</td>\n",
              "      <td>...</td>\n",
              "      <td>16.0</td>\n",
              "      <td>55.0</td>\n",
              "      <td>46.0</td>\n",
              "      <td>68.0</td>\n",
              "      <td>NaN</td>\n",
              "      <td>45.0</td>\n",
              "      <td>25.0</td>\n",
              "      <td>65.0</td>\n",
              "      <td>15.0</td>\n",
              "      <td>12</td>\n",
              "    </tr>\n",
              "    <tr>\n",
              "      <th>4</th>\n",
              "      <td>4</td>\n",
              "      <td>235663</td>\n",
              "      <td>NOTTING HILL OF WEST BLOOMFIELD</td>\n",
              "      <td>6535 DRAKE ROAD</td>\n",
              "      <td>W BLOOMFIELD</td>\n",
              "      <td>MI</td>\n",
              "      <td>48322</td>\n",
              "      <td>871</td>\n",
              "      <td>697</td>\n",
              "      <td>27.2</td>\n",
              "      <td>...</td>\n",
              "      <td>29.0</td>\n",
              "      <td>50.0</td>\n",
              "      <td>49.0</td>\n",
              "      <td>74.0</td>\n",
              "      <td>NaN</td>\n",
              "      <td>67.0</td>\n",
              "      <td>23.0</td>\n",
              "      <td>70.0</td>\n",
              "      <td>10.0</td>\n",
              "      <td>17</td>\n",
              "    </tr>\n",
              "  </tbody>\n",
              "</table>\n",
              "<p>5 rows × 42 columns</p>\n",
              "</div>\n",
              "      <button class=\"colab-df-convert\" onclick=\"convertToInteractive('df-a6480aec-8f8b-44ec-a9a4-4e83840cfd91')\"\n",
              "              title=\"Convert this dataframe to an interactive table.\"\n",
              "              style=\"display:none;\">\n",
              "        \n",
              "  <svg xmlns=\"http://www.w3.org/2000/svg\" height=\"24px\"viewBox=\"0 0 24 24\"\n",
              "       width=\"24px\">\n",
              "    <path d=\"M0 0h24v24H0V0z\" fill=\"none\"/>\n",
              "    <path d=\"M18.56 5.44l.94 2.06.94-2.06 2.06-.94-2.06-.94-.94-2.06-.94 2.06-2.06.94zm-11 1L8.5 8.5l.94-2.06 2.06-.94-2.06-.94L8.5 2.5l-.94 2.06-2.06.94zm10 10l.94 2.06.94-2.06 2.06-.94-2.06-.94-.94-2.06-.94 2.06-2.06.94z\"/><path d=\"M17.41 7.96l-1.37-1.37c-.4-.4-.92-.59-1.43-.59-.52 0-1.04.2-1.43.59L10.3 9.45l-7.72 7.72c-.78.78-.78 2.05 0 2.83L4 21.41c.39.39.9.59 1.41.59.51 0 1.02-.2 1.41-.59l7.78-7.78 2.81-2.81c.8-.78.8-2.07 0-2.86zM5.41 20L4 18.59l7.72-7.72 1.47 1.35L5.41 20z\"/>\n",
              "  </svg>\n",
              "      </button>\n",
              "      \n",
              "  <style>\n",
              "    .colab-df-container {\n",
              "      display:flex;\n",
              "      flex-wrap:wrap;\n",
              "      gap: 12px;\n",
              "    }\n",
              "\n",
              "    .colab-df-convert {\n",
              "      background-color: #E8F0FE;\n",
              "      border: none;\n",
              "      border-radius: 50%;\n",
              "      cursor: pointer;\n",
              "      display: none;\n",
              "      fill: #1967D2;\n",
              "      height: 32px;\n",
              "      padding: 0 0 0 0;\n",
              "      width: 32px;\n",
              "    }\n",
              "\n",
              "    .colab-df-convert:hover {\n",
              "      background-color: #E2EBFA;\n",
              "      box-shadow: 0px 1px 2px rgba(60, 64, 67, 0.3), 0px 1px 3px 1px rgba(60, 64, 67, 0.15);\n",
              "      fill: #174EA6;\n",
              "    }\n",
              "\n",
              "    [theme=dark] .colab-df-convert {\n",
              "      background-color: #3B4455;\n",
              "      fill: #D2E3FC;\n",
              "    }\n",
              "\n",
              "    [theme=dark] .colab-df-convert:hover {\n",
              "      background-color: #434B5C;\n",
              "      box-shadow: 0px 1px 3px 1px rgba(0, 0, 0, 0.15);\n",
              "      filter: drop-shadow(0px 1px 2px rgba(0, 0, 0, 0.3));\n",
              "      fill: #FFFFFF;\n",
              "    }\n",
              "  </style>\n",
              "\n",
              "      <script>\n",
              "        const buttonEl =\n",
              "          document.querySelector('#df-a6480aec-8f8b-44ec-a9a4-4e83840cfd91 button.colab-df-convert');\n",
              "        buttonEl.style.display =\n",
              "          google.colab.kernel.accessAllowed ? 'block' : 'none';\n",
              "\n",
              "        async function convertToInteractive(key) {\n",
              "          const element = document.querySelector('#df-a6480aec-8f8b-44ec-a9a4-4e83840cfd91');\n",
              "          const dataTable =\n",
              "            await google.colab.kernel.invokeFunction('convertToInteractive',\n",
              "                                                     [key], {});\n",
              "          if (!dataTable) return;\n",
              "\n",
              "          const docLinkHtml = 'Like what you see? Visit the ' +\n",
              "            '<a target=\"_blank\" href=https://colab.research.google.com/notebooks/data_table.ipynb>data table notebook</a>'\n",
              "            + ' to learn more about interactive tables.';\n",
              "          element.innerHTML = '';\n",
              "          dataTable['output_type'] = 'display_data';\n",
              "          await google.colab.output.renderOutput(dataTable, element);\n",
              "          const docLink = document.createElement('div');\n",
              "          docLink.innerHTML = docLinkHtml;\n",
              "          element.appendChild(docLink);\n",
              "        }\n",
              "      </script>\n",
              "    </div>\n",
              "  </div>\n",
              "  "
            ]
          },
          "metadata": {},
          "execution_count": 5
        }
      ]
    },
    {
      "cell_type": "markdown",
      "source": [
        "# 1. Multiple Regression"
      ],
      "metadata": {
        "id": "FZtqnES1i298"
      }
    },
    {
      "cell_type": "code",
      "source": [
        "reg = smf.ols(formula='total_snf_medicare_payment_amount ~ total_stays+average_hcc_score+average_length_of_stays_days+percent_of_beneficiaries_with_stroke', data=nursingFacilities)"
      ],
      "metadata": {
        "id": "CqIomQeMhbfg"
      },
      "execution_count": 7,
      "outputs": []
    },
    {
      "cell_type": "code",
      "source": [
        "results=reg.fit()"
      ],
      "metadata": {
        "id": "nf0OGhBeh9-z"
      },
      "execution_count": 8,
      "outputs": []
    },
    {
      "cell_type": "code",
      "source": [
        "# Inspect the results\n",
        "print(results.summary())"
      ],
      "metadata": {
        "colab": {
          "base_uri": "https://localhost:8080/"
        },
        "id": "BtYR4IpdpkDP",
        "outputId": "ce65ca29-6ec5-42b2-b478-101c84a2e35e"
      },
      "execution_count": 9,
      "outputs": [
        {
          "output_type": "stream",
          "name": "stdout",
          "text": [
            "                                    OLS Regression Results                                   \n",
            "=============================================================================================\n",
            "Dep. Variable:     total_snf_medicare_payment_amount   R-squared:                       0.894\n",
            "Model:                                           OLS   Adj. R-squared:                  0.894\n",
            "Method:                                Least Squares   F-statistic:                 3.177e+04\n",
            "Date:                               Mon, 20 Mar 2023   Prob (F-statistic):               0.00\n",
            "Time:                                       18:35:32   Log-Likelihood:            -2.2095e+05\n",
            "No. Observations:                              15026   AIC:                         4.419e+05\n",
            "Df Residuals:                                  15021   BIC:                         4.420e+05\n",
            "Df Model:                                          4                                         \n",
            "Covariance Type:                           nonrobust                                         \n",
            "========================================================================================================\n",
            "                                           coef    std err          t      P>|t|      [0.025      0.975]\n",
            "--------------------------------------------------------------------------------------------------------\n",
            "Intercept                            -1.689e+06   2.62e+04    -64.520      0.000   -1.74e+06   -1.64e+06\n",
            "total_stays                           1.149e+04     32.412    354.403      0.000    1.14e+04    1.16e+04\n",
            "average_hcc_score                     1.195e+05   8809.725     13.566      0.000    1.02e+05    1.37e+05\n",
            "average_length_of_stays_days          4.567e+04    690.131     66.183      0.000    4.43e+04     4.7e+04\n",
            "percent_of_beneficiaries_with_stroke  1069.2391    766.039      1.396      0.163    -432.292    2570.770\n",
            "==============================================================================\n",
            "Omnibus:                     7320.402   Durbin-Watson:                   1.593\n",
            "Prob(Omnibus):                  0.000   Jarque-Bera (JB):           326349.950\n",
            "Skew:                           1.629   Prob(JB):                         0.00\n",
            "Kurtosis:                      25.597   Cond. No.                     1.25e+03\n",
            "==============================================================================\n",
            "\n",
            "Notes:\n",
            "[1] Standard Errors assume that the covariance matrix of the errors is correctly specified.\n",
            "[2] The condition number is large, 1.25e+03. This might indicate that there are\n",
            "strong multicollinearity or other numerical problems.\n"
          ]
        }
      ]
    },
    {
      "cell_type": "markdown",
      "source": [
        "## Based on the previous we have fitted the following model:\n",
        "\n",
        " $total\\_snf\\_medicare\\_payment\\_amount=-1.682*10^6+1.149*10^4*total\\_stays+1.195*10^5*average\\_hcc\\_score+4.56*10^4*average\\_length\\_of\\_stays\\_days+1069.23*percent\\_beneficiaries\\_with\\_stroke+u $\n",
        "\n"
      ],
      "metadata": {
        "id": "4CK3NGqajcZj"
      }
    },
    {
      "cell_type": "markdown",
      "source": [
        "## t-Tests\n",
        "\n",
        "### Based on the p-values associated to each t-test, refer to the table above we conclude that all factors are statistically significant except for the perccentage of beneficiaries with stroke.\n",
        "\n",
        "### Therefore we remove this factor from the model.\n",
        "\n"
      ],
      "metadata": {
        "id": "CRcLhgggULBQ"
      }
    },
    {
      "cell_type": "code",
      "source": [
        "reg2 = smf.ols(formula='total_snf_medicare_payment_amount ~ total_stays+average_hcc_score+average_length_of_stays_days', data=nursingFacilities)"
      ],
      "metadata": {
        "id": "SfVNhwpLUJgs"
      },
      "execution_count": 10,
      "outputs": []
    },
    {
      "cell_type": "code",
      "source": [
        "results2=reg2.fit()"
      ],
      "metadata": {
        "id": "UcVoOCg-UJdk"
      },
      "execution_count": 14,
      "outputs": []
    },
    {
      "cell_type": "code",
      "source": [
        "print(results2.summary())"
      ],
      "metadata": {
        "colab": {
          "base_uri": "https://localhost:8080/"
        },
        "id": "BxU4ZgDFU_MI",
        "outputId": "90c0b452-5b88-4e52-ffc7-b29572faf2f2"
      },
      "execution_count": 16,
      "outputs": [
        {
          "output_type": "stream",
          "name": "stdout",
          "text": [
            "                                    OLS Regression Results                                   \n",
            "=============================================================================================\n",
            "Dep. Variable:     total_snf_medicare_payment_amount   R-squared:                       0.894\n",
            "Model:                                           OLS   Adj. R-squared:                  0.894\n",
            "Method:                                Least Squares   F-statistic:                 4.236e+04\n",
            "Date:                               Mon, 20 Mar 2023   Prob (F-statistic):               0.00\n",
            "Time:                                       18:42:52   Log-Likelihood:            -2.2096e+05\n",
            "No. Observations:                              15026   AIC:                         4.419e+05\n",
            "Df Residuals:                                  15022   BIC:                         4.419e+05\n",
            "Df Model:                                          3                                         \n",
            "Covariance Type:                           nonrobust                                         \n",
            "================================================================================================\n",
            "                                   coef    std err          t      P>|t|      [0.025      0.975]\n",
            "------------------------------------------------------------------------------------------------\n",
            "Intercept                    -1.682e+06   2.57e+04    -65.435      0.000   -1.73e+06   -1.63e+06\n",
            "total_stays                   1.149e+04     32.317    355.558      0.000    1.14e+04    1.16e+04\n",
            "average_hcc_score             1.231e+05   8429.906     14.601      0.000    1.07e+05     1.4e+05\n",
            "average_length_of_stays_days   4.58e+04    684.563     66.900      0.000    4.45e+04    4.71e+04\n",
            "==============================================================================\n",
            "Omnibus:                     7304.271   Durbin-Watson:                   1.593\n",
            "Prob(Omnibus):                  0.000   Jarque-Bera (JB):           325724.427\n",
            "Skew:                           1.623   Prob(JB):                         0.00\n",
            "Kurtosis:                      25.577   Cond. No.                     1.23e+03\n",
            "==============================================================================\n",
            "\n",
            "Notes:\n",
            "[1] Standard Errors assume that the covariance matrix of the errors is correctly specified.\n",
            "[2] The condition number is large, 1.23e+03. This might indicate that there are\n",
            "strong multicollinearity or other numerical problems.\n"
          ]
        }
      ]
    },
    {
      "cell_type": "markdown",
      "source": [
        "### This time all factors are statistically significant"
      ],
      "metadata": {
        "id": "ID_UQaQSVOci"
      }
    },
    {
      "cell_type": "markdown",
      "source": [
        "## F-Tests\n",
        "\n",
        "### Based on the F-statistic, refer to the table above we conclude that the model is statistically significant. This result, combined with the large R^2, reassures us that the model is useful (in the sense of providing information on which factors drive medicare costs).\n"
      ],
      "metadata": {
        "id": "oJGuP7joVb4v"
      }
    },
    {
      "cell_type": "markdown",
      "source": [
        "## How do we interpret the equation?\n",
        "\n",
        "\n",
        "\n",
        "#### If the total stays increases by one unit, total medicare payment is predicted to change by about 11490 dollars. This means that, on average, each inpatient costs 11490 dollars (controlling for other factors).\n",
        "\n",
        "#### If the average_hcc_score increases by one unit, total medicare payment is predicted to change by about 123100 dollars. \n",
        "\n",
        "#### If the average lenght of stays increases by one unit, total medicare payment is predicted to change by about 45800 dollars. This means that, on average, each day of hospitalization costs 45800 dollars (controlling for other factors).\n"
      ],
      "metadata": {
        "id": "JSdD7IeUkhRt"
      }
    }
  ]
}