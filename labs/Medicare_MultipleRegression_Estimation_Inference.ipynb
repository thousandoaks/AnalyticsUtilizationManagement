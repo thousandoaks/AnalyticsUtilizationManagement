{
  "nbformat": 4,
  "nbformat_minor": 0,
  "metadata": {
    "colab": {
      "provenance": [],
      "authorship_tag": "ABX9TyNdgNCwA7ZHtPBvCQT5ccqZ"
    },
    "kernelspec": {
      "name": "python3",
      "display_name": "Python 3"
    },
    "language_info": {
      "name": "python"
    }
  },
  "cells": [
    {
      "cell_type": "markdown",
      "source": [
        "![](http://www.kiplinger.com/kipimages/pages/14024.jpg)\n",
        "\n",
        "# An Extensive Medicare Data Exploration - Healthcare Analysis\n",
        "\n",
        "## About Medicare \n",
        "\n",
        "In the United States, Medicare is a single-payer, national social insurance program administered by the U.S. federal government since 1966. United States Medicare is funded by a payroll tax, premiums and surtaxes from beneficiaries, and general revenue. It provides health insurance for Americans aged 65 and older who have worked and paid into the system through the payroll tax. It also provides health insurance to younger people with some disability status as determined by the Social Security Administration, as well as people with end stage renal disease and amyotrophic lateral sclerosis.\n",
        "\n",
        "In 2015, Medicare provided health insurance for over **55 million** (46 million people age 65 and older and 9 million younger people). On average, Medicare covers about half of the health care charges for those enrolled. The enrollees must then cover their remaining costs either with supplemental insurance, separate insurance, or out-of-pocket. Out-of-pocket costs can vary depending on the amount of health care a Medicare enrollee needs. \n",
        "\n",
        "## About CMS\n",
        "\n",
        "The Centers for Medicare & Medicaid Services (CMS), previously known as the Health Care Financing Administration (HCFA), is a federal agency within the United States Department of Health and Human Services (HHS) that administers the Medicare program and works in partnership with state governments to administer Medicaid, the Children's Health Insurance Program (CHIP), and health insurance portability standards. In addition to these programs, CMS has other responsibilities, including the administrative simplification standards from the Health Insurance Portability and Accountability Act of 1996 (HIPAA), quality standards in long-term care facilities (more commonly referred to as nursing homes) through its survey and certification process, clinical laboratory quality standards under the Clinical Laboratory Improvement Amendments, and oversight of HealthCare.gov.\n",
        "\n",
        "## About the Data-Set\n",
        "\n",
        "This [public dataset](https://www.kaggle.com/cms/cms-medicare) was created by the Centers for Medicare & Medicaid Services. The data summarizes the utilization and payments for procedures, services, and prescription drugs provided to Medicare beneficiaries by specific inpatient and outpatient hospitals, physicians, and other suppliers. The dataset includes the following data: Common inpatient and outpatient services, All physician and other supplier procedures and services, All Part D prescriptions. Providers determine what they will charge for items, services, and procedures provided to patients and these charges are the amount that providers bill for an item, service, or procedure.\n",
        "\n"
      ],
      "metadata": {
        "id": "5bKFL6W_dO-r"
      }
    },
    {
      "cell_type": "markdown",
      "source": [
        "## Objectives of the Lab\n",
        "\n",
        "### 1. Run our very first multiple regression analysis\n",
        "### 2. Interpret the results\n"
      ],
      "metadata": {
        "id": "pudNlNT6LfeK"
      }
    },
    {
      "cell_type": "code",
      "execution_count": 1,
      "metadata": {
        "id": "pw_Ur5bnZAhe"
      },
      "outputs": [],
      "source": [
        "import seaborn as sns\n",
        "import matplotlib.pyplot as plt\n",
        "\n",
        "import warnings\n",
        "warnings.filterwarnings(\"ignore\")\n",
        "\n",
        "import pandas as pd\n",
        "from plotly.offline import init_notebook_mode, iplot\n",
        "import plotly.express as px\n",
        "\n",
        "import plotly.graph_objects as go\n",
        "\n",
        "import statsmodels.formula.api as smf"
      ]
    },
    {
      "cell_type": "markdown",
      "source": [
        "## 1. Let's load the empirical dataset we want to derive insights from\n",
        "![](http://www.arh.org/Uploads/Images/Page/services-skillednursing%5B1%5D.jpg)"
      ],
      "metadata": {
        "id": "sTtV0A7DZTjV"
      }
    },
    {
      "cell_type": "code",
      "source": [
        "nursingFacilities=pd.read_csv('https://raw.githubusercontent.com/thousandoaks/AnalyticsUtilizationManagement/main/data/nursing_facilities_2014.csv')"
      ],
      "metadata": {
        "id": "HM9SINApZUX_"
      },
      "execution_count": null,
      "outputs": []
    },
    {
      "cell_type": "code",
      "source": [
        "nursingFacilities.head()"
      ],
      "metadata": {
        "colab": {
          "base_uri": "https://localhost:8080/",
          "height": 525
        },
        "id": "E16JwNPJdCp9",
        "outputId": "b901fec8-dc0e-46d7-98c6-71925962c877"
      },
      "execution_count": null,
      "outputs": [
        {
          "output_type": "execute_result",
          "data": {
            "text/plain": [
              "   Unnamed: 0  provider_id                                facility_name  \\\n",
              "0           0       235618          HEARTLAND HEALTH CARE CENTER-CANTON   \n",
              "1           1       495217          MANORCARE HEALTH SERVICES-FAIR OAKS   \n",
              "2           2       495121  CHERRYDALE HEALTH AND REHABILITATION CENTER   \n",
              "3           3       225554                               COOLIDGE HOUSE   \n",
              "4           4       235663              NOTTING HILL OF WEST BLOOMFIELD   \n",
              "\n",
              "                       street_address          city state  zip_code  \\\n",
              "0                    7025 LILLEY ROAD        CANTON    MI     48187   \n",
              "1  12475 LEE JACKSON MEMORIAL HIGHWAY       FAIRFAX    VA     22033   \n",
              "2                    3710 LEE HIGHWAY     ARLINGTON    VA     22207   \n",
              "3                   30 WEBSTER STREET     BROOKLINE    MA      2446   \n",
              "4                     6535 DRAKE ROAD  W BLOOMFIELD    MI     48322   \n",
              "\n",
              "   total_stays  distinct_beneficiaries_per_provider  \\\n",
              "0         1104                                  829   \n",
              "1          436                                  350   \n",
              "2          353                                  289   \n",
              "3          368                                  297   \n",
              "4          871                                  697   \n",
              "\n",
              "   average_length_of_stays_days  ...  percent_of_beneficiaries_with_copd  \\\n",
              "0                          25.1  ...                                40.0   \n",
              "1                          26.3  ...                                29.0   \n",
              "2                          23.1  ...                                34.0   \n",
              "3                          19.5  ...                                16.0   \n",
              "4                          27.2  ...                                29.0   \n",
              "\n",
              "   percent_of_beneficiaries_with_depression  \\\n",
              "0                                      51.0   \n",
              "1                                      43.0   \n",
              "2                                      49.0   \n",
              "3                                      55.0   \n",
              "4                                      50.0   \n",
              "\n",
              "   percent_of_beneficiaries_with_diabetes  \\\n",
              "0                                    47.0   \n",
              "1                                    46.0   \n",
              "2                                    49.0   \n",
              "3                                    46.0   \n",
              "4                                    49.0   \n",
              "\n",
              "   percent_of_beneficiaries_with_hyperlipidemia  \\\n",
              "0                                          70.0   \n",
              "1                                          72.0   \n",
              "2                                          67.0   \n",
              "3                                          68.0   \n",
              "4                                          74.0   \n",
              "\n",
              "   percent_of_beneficiaries_with_hypertension  \\\n",
              "0                                         NaN   \n",
              "1                                         NaN   \n",
              "2                                         NaN   \n",
              "3                                         NaN   \n",
              "4                                         NaN   \n",
              "\n",
              "   percent_of_beneficiaries_with_ihd  \\\n",
              "0                               68.0   \n",
              "1                               54.0   \n",
              "2                               50.0   \n",
              "3                               45.0   \n",
              "4                               67.0   \n",
              "\n",
              "   percent_of_beneficiaries_with_osteoporosis  \\\n",
              "0                                        20.0   \n",
              "1                                        17.0   \n",
              "2                                        14.0   \n",
              "3                                        25.0   \n",
              "4                                        23.0   \n",
              "\n",
              "   percent_of_beneficiaries_with_ra_oa  \\\n",
              "0                                 69.0   \n",
              "1                                 53.0   \n",
              "2                                 47.0   \n",
              "3                                 65.0   \n",
              "4                                 70.0   \n",
              "\n",
              "   percent_of_beneficiaries_with_schizophrenia  \\\n",
              "0                                         10.0   \n",
              "1                                         11.0   \n",
              "2                                         24.0   \n",
              "3                                         15.0   \n",
              "4                                         10.0   \n",
              "\n",
              "   percent_of_beneficiaries_with_stroke  \n",
              "0                                    17  \n",
              "1                                    19  \n",
              "2                                    19  \n",
              "3                                    12  \n",
              "4                                    17  \n",
              "\n",
              "[5 rows x 42 columns]"
            ],
            "text/html": [
              "\n",
              "  <div id=\"df-6e1a7881-f0ef-4a0c-837e-ad57e1124e12\">\n",
              "    <div class=\"colab-df-container\">\n",
              "      <div>\n",
              "<style scoped>\n",
              "    .dataframe tbody tr th:only-of-type {\n",
              "        vertical-align: middle;\n",
              "    }\n",
              "\n",
              "    .dataframe tbody tr th {\n",
              "        vertical-align: top;\n",
              "    }\n",
              "\n",
              "    .dataframe thead th {\n",
              "        text-align: right;\n",
              "    }\n",
              "</style>\n",
              "<table border=\"1\" class=\"dataframe\">\n",
              "  <thead>\n",
              "    <tr style=\"text-align: right;\">\n",
              "      <th></th>\n",
              "      <th>Unnamed: 0</th>\n",
              "      <th>provider_id</th>\n",
              "      <th>facility_name</th>\n",
              "      <th>street_address</th>\n",
              "      <th>city</th>\n",
              "      <th>state</th>\n",
              "      <th>zip_code</th>\n",
              "      <th>total_stays</th>\n",
              "      <th>distinct_beneficiaries_per_provider</th>\n",
              "      <th>average_length_of_stays_days</th>\n",
              "      <th>...</th>\n",
              "      <th>percent_of_beneficiaries_with_copd</th>\n",
              "      <th>percent_of_beneficiaries_with_depression</th>\n",
              "      <th>percent_of_beneficiaries_with_diabetes</th>\n",
              "      <th>percent_of_beneficiaries_with_hyperlipidemia</th>\n",
              "      <th>percent_of_beneficiaries_with_hypertension</th>\n",
              "      <th>percent_of_beneficiaries_with_ihd</th>\n",
              "      <th>percent_of_beneficiaries_with_osteoporosis</th>\n",
              "      <th>percent_of_beneficiaries_with_ra_oa</th>\n",
              "      <th>percent_of_beneficiaries_with_schizophrenia</th>\n",
              "      <th>percent_of_beneficiaries_with_stroke</th>\n",
              "    </tr>\n",
              "  </thead>\n",
              "  <tbody>\n",
              "    <tr>\n",
              "      <th>0</th>\n",
              "      <td>0</td>\n",
              "      <td>235618</td>\n",
              "      <td>HEARTLAND HEALTH CARE CENTER-CANTON</td>\n",
              "      <td>7025 LILLEY ROAD</td>\n",
              "      <td>CANTON</td>\n",
              "      <td>MI</td>\n",
              "      <td>48187</td>\n",
              "      <td>1104</td>\n",
              "      <td>829</td>\n",
              "      <td>25.1</td>\n",
              "      <td>...</td>\n",
              "      <td>40.0</td>\n",
              "      <td>51.0</td>\n",
              "      <td>47.0</td>\n",
              "      <td>70.0</td>\n",
              "      <td>NaN</td>\n",
              "      <td>68.0</td>\n",
              "      <td>20.0</td>\n",
              "      <td>69.0</td>\n",
              "      <td>10.0</td>\n",
              "      <td>17</td>\n",
              "    </tr>\n",
              "    <tr>\n",
              "      <th>1</th>\n",
              "      <td>1</td>\n",
              "      <td>495217</td>\n",
              "      <td>MANORCARE HEALTH SERVICES-FAIR OAKS</td>\n",
              "      <td>12475 LEE JACKSON MEMORIAL HIGHWAY</td>\n",
              "      <td>FAIRFAX</td>\n",
              "      <td>VA</td>\n",
              "      <td>22033</td>\n",
              "      <td>436</td>\n",
              "      <td>350</td>\n",
              "      <td>26.3</td>\n",
              "      <td>...</td>\n",
              "      <td>29.0</td>\n",
              "      <td>43.0</td>\n",
              "      <td>46.0</td>\n",
              "      <td>72.0</td>\n",
              "      <td>NaN</td>\n",
              "      <td>54.0</td>\n",
              "      <td>17.0</td>\n",
              "      <td>53.0</td>\n",
              "      <td>11.0</td>\n",
              "      <td>19</td>\n",
              "    </tr>\n",
              "    <tr>\n",
              "      <th>2</th>\n",
              "      <td>2</td>\n",
              "      <td>495121</td>\n",
              "      <td>CHERRYDALE HEALTH AND REHABILITATION CENTER</td>\n",
              "      <td>3710 LEE HIGHWAY</td>\n",
              "      <td>ARLINGTON</td>\n",
              "      <td>VA</td>\n",
              "      <td>22207</td>\n",
              "      <td>353</td>\n",
              "      <td>289</td>\n",
              "      <td>23.1</td>\n",
              "      <td>...</td>\n",
              "      <td>34.0</td>\n",
              "      <td>49.0</td>\n",
              "      <td>49.0</td>\n",
              "      <td>67.0</td>\n",
              "      <td>NaN</td>\n",
              "      <td>50.0</td>\n",
              "      <td>14.0</td>\n",
              "      <td>47.0</td>\n",
              "      <td>24.0</td>\n",
              "      <td>19</td>\n",
              "    </tr>\n",
              "    <tr>\n",
              "      <th>3</th>\n",
              "      <td>3</td>\n",
              "      <td>225554</td>\n",
              "      <td>COOLIDGE HOUSE</td>\n",
              "      <td>30 WEBSTER STREET</td>\n",
              "      <td>BROOKLINE</td>\n",
              "      <td>MA</td>\n",
              "      <td>2446</td>\n",
              "      <td>368</td>\n",
              "      <td>297</td>\n",
              "      <td>19.5</td>\n",
              "      <td>...</td>\n",
              "      <td>16.0</td>\n",
              "      <td>55.0</td>\n",
              "      <td>46.0</td>\n",
              "      <td>68.0</td>\n",
              "      <td>NaN</td>\n",
              "      <td>45.0</td>\n",
              "      <td>25.0</td>\n",
              "      <td>65.0</td>\n",
              "      <td>15.0</td>\n",
              "      <td>12</td>\n",
              "    </tr>\n",
              "    <tr>\n",
              "      <th>4</th>\n",
              "      <td>4</td>\n",
              "      <td>235663</td>\n",
              "      <td>NOTTING HILL OF WEST BLOOMFIELD</td>\n",
              "      <td>6535 DRAKE ROAD</td>\n",
              "      <td>W BLOOMFIELD</td>\n",
              "      <td>MI</td>\n",
              "      <td>48322</td>\n",
              "      <td>871</td>\n",
              "      <td>697</td>\n",
              "      <td>27.2</td>\n",
              "      <td>...</td>\n",
              "      <td>29.0</td>\n",
              "      <td>50.0</td>\n",
              "      <td>49.0</td>\n",
              "      <td>74.0</td>\n",
              "      <td>NaN</td>\n",
              "      <td>67.0</td>\n",
              "      <td>23.0</td>\n",
              "      <td>70.0</td>\n",
              "      <td>10.0</td>\n",
              "      <td>17</td>\n",
              "    </tr>\n",
              "  </tbody>\n",
              "</table>\n",
              "<p>5 rows × 42 columns</p>\n",
              "</div>\n",
              "      <button class=\"colab-df-convert\" onclick=\"convertToInteractive('df-6e1a7881-f0ef-4a0c-837e-ad57e1124e12')\"\n",
              "              title=\"Convert this dataframe to an interactive table.\"\n",
              "              style=\"display:none;\">\n",
              "        \n",
              "  <svg xmlns=\"http://www.w3.org/2000/svg\" height=\"24px\"viewBox=\"0 0 24 24\"\n",
              "       width=\"24px\">\n",
              "    <path d=\"M0 0h24v24H0V0z\" fill=\"none\"/>\n",
              "    <path d=\"M18.56 5.44l.94 2.06.94-2.06 2.06-.94-2.06-.94-.94-2.06-.94 2.06-2.06.94zm-11 1L8.5 8.5l.94-2.06 2.06-.94-2.06-.94L8.5 2.5l-.94 2.06-2.06.94zm10 10l.94 2.06.94-2.06 2.06-.94-2.06-.94-.94-2.06-.94 2.06-2.06.94z\"/><path d=\"M17.41 7.96l-1.37-1.37c-.4-.4-.92-.59-1.43-.59-.52 0-1.04.2-1.43.59L10.3 9.45l-7.72 7.72c-.78.78-.78 2.05 0 2.83L4 21.41c.39.39.9.59 1.41.59.51 0 1.02-.2 1.41-.59l7.78-7.78 2.81-2.81c.8-.78.8-2.07 0-2.86zM5.41 20L4 18.59l7.72-7.72 1.47 1.35L5.41 20z\"/>\n",
              "  </svg>\n",
              "      </button>\n",
              "      \n",
              "  <style>\n",
              "    .colab-df-container {\n",
              "      display:flex;\n",
              "      flex-wrap:wrap;\n",
              "      gap: 12px;\n",
              "    }\n",
              "\n",
              "    .colab-df-convert {\n",
              "      background-color: #E8F0FE;\n",
              "      border: none;\n",
              "      border-radius: 50%;\n",
              "      cursor: pointer;\n",
              "      display: none;\n",
              "      fill: #1967D2;\n",
              "      height: 32px;\n",
              "      padding: 0 0 0 0;\n",
              "      width: 32px;\n",
              "    }\n",
              "\n",
              "    .colab-df-convert:hover {\n",
              "      background-color: #E2EBFA;\n",
              "      box-shadow: 0px 1px 2px rgba(60, 64, 67, 0.3), 0px 1px 3px 1px rgba(60, 64, 67, 0.15);\n",
              "      fill: #174EA6;\n",
              "    }\n",
              "\n",
              "    [theme=dark] .colab-df-convert {\n",
              "      background-color: #3B4455;\n",
              "      fill: #D2E3FC;\n",
              "    }\n",
              "\n",
              "    [theme=dark] .colab-df-convert:hover {\n",
              "      background-color: #434B5C;\n",
              "      box-shadow: 0px 1px 3px 1px rgba(0, 0, 0, 0.15);\n",
              "      filter: drop-shadow(0px 1px 2px rgba(0, 0, 0, 0.3));\n",
              "      fill: #FFFFFF;\n",
              "    }\n",
              "  </style>\n",
              "\n",
              "      <script>\n",
              "        const buttonEl =\n",
              "          document.querySelector('#df-6e1a7881-f0ef-4a0c-837e-ad57e1124e12 button.colab-df-convert');\n",
              "        buttonEl.style.display =\n",
              "          google.colab.kernel.accessAllowed ? 'block' : 'none';\n",
              "\n",
              "        async function convertToInteractive(key) {\n",
              "          const element = document.querySelector('#df-6e1a7881-f0ef-4a0c-837e-ad57e1124e12');\n",
              "          const dataTable =\n",
              "            await google.colab.kernel.invokeFunction('convertToInteractive',\n",
              "                                                     [key], {});\n",
              "          if (!dataTable) return;\n",
              "\n",
              "          const docLinkHtml = 'Like what you see? Visit the ' +\n",
              "            '<a target=\"_blank\" href=https://colab.research.google.com/notebooks/data_table.ipynb>data table notebook</a>'\n",
              "            + ' to learn more about interactive tables.';\n",
              "          element.innerHTML = '';\n",
              "          dataTable['output_type'] = 'display_data';\n",
              "          await google.colab.output.renderOutput(dataTable, element);\n",
              "          const docLink = document.createElement('div');\n",
              "          docLink.innerHTML = docLinkHtml;\n",
              "          element.appendChild(docLink);\n",
              "        }\n",
              "      </script>\n",
              "    </div>\n",
              "  </div>\n",
              "  "
            ]
          },
          "metadata": {},
          "execution_count": 4
        }
      ]
    },
    {
      "cell_type": "code",
      "source": [
        "nursingFacilities.drop('Unnamed: 0',axis=1,inplace=True)"
      ],
      "metadata": {
        "id": "asD_4AGvTDLK"
      },
      "execution_count": null,
      "outputs": []
    },
    {
      "cell_type": "code",
      "source": [
        "nursingFacilities.info()"
      ],
      "metadata": {
        "id": "-lmpge4gSzHk",
        "outputId": "4062e372-4f49-47f5-ba61-9846f4fcd6ca",
        "colab": {
          "base_uri": "https://localhost:8080/"
        }
      },
      "execution_count": null,
      "outputs": [
        {
          "output_type": "stream",
          "name": "stdout",
          "text": [
            "<class 'pandas.core.frame.DataFrame'>\n",
            "RangeIndex: 15026 entries, 0 to 15025\n",
            "Data columns (total 41 columns):\n",
            " #   Column                                                Non-Null Count  Dtype  \n",
            "---  ------                                                --------------  -----  \n",
            " 0   provider_id                                           15026 non-null  int64  \n",
            " 1   facility_name                                         15026 non-null  object \n",
            " 2   street_address                                        15026 non-null  object \n",
            " 3   city                                                  15026 non-null  object \n",
            " 4   state                                                 15026 non-null  object \n",
            " 5   zip_code                                              15026 non-null  int64  \n",
            " 6   total_stays                                           15026 non-null  int64  \n",
            " 7   distinct_beneficiaries_per_provider                   15026 non-null  int64  \n",
            " 8   average_length_of_stays_days                          15026 non-null  float64\n",
            " 9   total_snf_charge_amount                               15026 non-null  int64  \n",
            " 10  total_snf_medicare_allowed_amount                     15026 non-null  int64  \n",
            " 11  total_snf_medicare_payment_amount                     15026 non-null  int64  \n",
            " 12  total_snf_medicare_standard_payment_amount            15026 non-null  int64  \n",
            " 13  average_age                                           15026 non-null  int64  \n",
            " 14  male_beneficiaries                                    13370 non-null  float64\n",
            " 15  female_beneficiaries                                  13370 non-null  float64\n",
            " 16  nondual_beneficiaries                                 12149 non-null  float64\n",
            " 17  dual_beneficiaries                                    12149 non-null  float64\n",
            " 18  white_beneficiaries                                   14629 non-null  float64\n",
            " 19  black_beneficiaries                                   8934 non-null   float64\n",
            " 20  asian_pacific_islander_beneficiaries                  9557 non-null   float64\n",
            " 21  hispanic_beneficiaries                                8037 non-null   float64\n",
            " 22  american_indian_or_alaska_native_beneficiaries        11469 non-null  float64\n",
            " 23  other_unknown_beneficiaries                           5496 non-null   float64\n",
            " 24  average_hcc_score                                     15026 non-null  float64\n",
            " 25  percent_of_beneficiaries_with_atrial_fibrillation     15025 non-null  float64\n",
            " 26  percent_of_beneficiaries_with_alzheimers              14101 non-null  float64\n",
            " 27  percent_of_beneficiaries_with_asthma                  15026 non-null  int64  \n",
            " 28  percent_of_beneficiaries_with_cancer                  15026 non-null  int64  \n",
            " 29  percent_of_beneficiaries_with_chf                     14747 non-null  float64\n",
            " 30  percent_of_beneficiaries_with_chronic_kidney_disease  14735 non-null  float64\n",
            " 31  percent_of_beneficiaries_with_copd                    14991 non-null  float64\n",
            " 32  percent_of_beneficiaries_with_depression              14619 non-null  float64\n",
            " 33  percent_of_beneficiaries_with_diabetes                14872 non-null  float64\n",
            " 34  percent_of_beneficiaries_with_hyperlipidemia          13629 non-null  float64\n",
            " 35  percent_of_beneficiaries_with_hypertension            231 non-null    float64\n",
            " 36  percent_of_beneficiaries_with_ihd                     13917 non-null  float64\n",
            " 37  percent_of_beneficiaries_with_osteoporosis            15024 non-null  float64\n",
            " 38  percent_of_beneficiaries_with_ra_oa                   14318 non-null  float64\n",
            " 39  percent_of_beneficiaries_with_schizophrenia           14885 non-null  float64\n",
            " 40  percent_of_beneficiaries_with_stroke                  15026 non-null  int64  \n",
            "dtypes: float64(25), int64(12), object(4)\n",
            "memory usage: 4.7+ MB\n"
          ]
        }
      ]
    },
    {
      "cell_type": "code",
      "source": [
        "nursingFacilities.describe()"
      ],
      "metadata": {
        "id": "kjY43VliXBHF",
        "outputId": "25df885a-2123-413b-b387-7581c36c2203",
        "colab": {
          "base_uri": "https://localhost:8080/",
          "height": 393
        }
      },
      "execution_count": null,
      "outputs": [
        {
          "output_type": "execute_result",
          "data": {
            "text/plain": [
              "        provider_id      zip_code   total_stays  \\\n",
              "count   15026.00000  15026.000000  15026.000000   \n",
              "mean   295268.93438  49548.870957    166.301544   \n",
              "std    172245.62168  26818.941024    151.793460   \n",
              "min     10007.00000    660.000000     11.000000   \n",
              "25%    155325.50000  29349.000000     64.000000   \n",
              "50%    265779.50000  48185.000000    123.000000   \n",
              "75%    395718.75000  72014.250000    216.000000   \n",
              "max    676372.00000  99901.000000   2026.000000   \n",
              "\n",
              "       distinct_beneficiaries_per_provider  average_length_of_stays_days  \\\n",
              "count                         15026.000000                  15026.000000   \n",
              "mean                            132.337149                     28.130075   \n",
              "std                             123.906842                      7.383997   \n",
              "min                              11.000000                      2.000000   \n",
              "25%                              50.000000                     23.700000   \n",
              "50%                              95.000000                     27.800000   \n",
              "75%                             172.000000                     32.400000   \n",
              "max                            1772.000000                     68.600000   \n",
              "\n",
              "       total_snf_charge_amount  total_snf_medicare_allowed_amount  \\\n",
              "count             1.502600e+04                       1.502600e+04   \n",
              "mean              2.979363e+06                       2.186786e+06   \n",
              "std               3.274693e+06                       2.123067e+06   \n",
              "min               2.197800e+04                       7.064000e+03   \n",
              "25%               1.015431e+06                       8.021298e+05   \n",
              "50%               2.033186e+06                       1.579600e+06   \n",
              "75%               3.764452e+06                       2.856638e+06   \n",
              "max               1.017705e+08                       2.720066e+07   \n",
              "\n",
              "       total_snf_medicare_payment_amount  \\\n",
              "count                       1.502600e+04   \n",
              "mean                        1.804748e+06   \n",
              "std                         1.811159e+06   \n",
              "min                         7.064000e+03   \n",
              "25%                         6.372892e+05   \n",
              "50%                         1.273338e+06   \n",
              "75%                         2.337140e+06   \n",
              "max                         2.415078e+07   \n",
              "\n",
              "       total_snf_medicare_standard_payment_amount   average_age  ...  \\\n",
              "count                                1.502600e+04  15026.000000  ...   \n",
              "mean                                 1.856649e+06     78.644150  ...   \n",
              "std                                  1.734586e+06      4.686173  ...   \n",
              "min                                  8.150000e+03     45.000000  ...   \n",
              "25%                                  6.925308e+05     76.000000  ...   \n",
              "50%                                  1.377898e+06     79.000000  ...   \n",
              "75%                                  2.435829e+06     82.000000  ...   \n",
              "max                                  2.041167e+07     92.000000  ...   \n",
              "\n",
              "       percent_of_beneficiaries_with_copd  \\\n",
              "count                        14991.000000   \n",
              "mean                            37.509572   \n",
              "std                             10.540757   \n",
              "min                              0.000000   \n",
              "25%                             30.000000   \n",
              "50%                             37.000000   \n",
              "75%                             44.000000   \n",
              "max                             75.000000   \n",
              "\n",
              "       percent_of_beneficiaries_with_depression  \\\n",
              "count                              14619.000000   \n",
              "mean                                  49.233805   \n",
              "std                                   10.952155   \n",
              "min                                    6.000000   \n",
              "25%                                   42.000000   \n",
              "50%                                   49.000000   \n",
              "75%                                   57.000000   \n",
              "max                                   75.000000   \n",
              "\n",
              "       percent_of_beneficiaries_with_diabetes  \\\n",
              "count                            14872.000000   \n",
              "mean                                46.587614   \n",
              "std                                 10.988216   \n",
              "min                                  0.000000   \n",
              "25%                                 39.000000   \n",
              "50%                                 47.000000   \n",
              "75%                                 54.000000   \n",
              "max                                 75.000000   \n",
              "\n",
              "       percent_of_beneficiaries_with_hyperlipidemia  \\\n",
              "count                                  13629.000000   \n",
              "mean                                      61.395407   \n",
              "std                                        9.270699   \n",
              "min                                       10.000000   \n",
              "25%                                       56.000000   \n",
              "50%                                       63.000000   \n",
              "75%                                       68.000000   \n",
              "max                                       75.000000   \n",
              "\n",
              "       percent_of_beneficiaries_with_hypertension  \\\n",
              "count                                  231.000000   \n",
              "mean                                    69.891775   \n",
              "std                                      6.134115   \n",
              "min                                     38.000000   \n",
              "25%                                     68.000000   \n",
              "50%                                     72.000000   \n",
              "75%                                     74.000000   \n",
              "max                                     75.000000   \n",
              "\n",
              "       percent_of_beneficiaries_with_ihd  \\\n",
              "count                       13917.000000   \n",
              "mean                           57.198031   \n",
              "std                            10.022661   \n",
              "min                             6.000000   \n",
              "25%                            51.000000   \n",
              "50%                            58.000000   \n",
              "75%                            65.000000   \n",
              "max                            75.000000   \n",
              "\n",
              "       percent_of_beneficiaries_with_osteoporosis  \\\n",
              "count                                15024.000000   \n",
              "mean                                    18.347378   \n",
              "std                                      7.990701   \n",
              "min                                      0.000000   \n",
              "25%                                     13.000000   \n",
              "50%                                     18.000000   \n",
              "75%                                     23.000000   \n",
              "max                                     70.000000   \n",
              "\n",
              "       percent_of_beneficiaries_with_ra_oa  \\\n",
              "count                         14318.000000   \n",
              "mean                             54.852284   \n",
              "std                              10.606628   \n",
              "min                               0.000000   \n",
              "25%                              48.000000   \n",
              "50%                              56.000000   \n",
              "75%                              63.000000   \n",
              "max                              75.000000   \n",
              "\n",
              "       percent_of_beneficiaries_with_schizophrenia  \\\n",
              "count                                 14885.000000   \n",
              "mean                                     20.156869   \n",
              "std                                      12.137511   \n",
              "min                                       0.000000   \n",
              "25%                                      12.000000   \n",
              "50%                                      17.000000   \n",
              "75%                                      26.000000   \n",
              "max                                      75.000000   \n",
              "\n",
              "       percent_of_beneficiaries_with_stroke  \n",
              "count                          15026.000000  \n",
              "mean                              18.018967  \n",
              "std                                6.689469  \n",
              "min                                0.000000  \n",
              "25%                               14.000000  \n",
              "50%                               18.000000  \n",
              "75%                               22.000000  \n",
              "max                               59.000000  \n",
              "\n",
              "[8 rows x 37 columns]"
            ],
            "text/html": [
              "\n",
              "  <div id=\"df-fe37e6c0-839b-43b2-a62c-96a0f2480533\">\n",
              "    <div class=\"colab-df-container\">\n",
              "      <div>\n",
              "<style scoped>\n",
              "    .dataframe tbody tr th:only-of-type {\n",
              "        vertical-align: middle;\n",
              "    }\n",
              "\n",
              "    .dataframe tbody tr th {\n",
              "        vertical-align: top;\n",
              "    }\n",
              "\n",
              "    .dataframe thead th {\n",
              "        text-align: right;\n",
              "    }\n",
              "</style>\n",
              "<table border=\"1\" class=\"dataframe\">\n",
              "  <thead>\n",
              "    <tr style=\"text-align: right;\">\n",
              "      <th></th>\n",
              "      <th>provider_id</th>\n",
              "      <th>zip_code</th>\n",
              "      <th>total_stays</th>\n",
              "      <th>distinct_beneficiaries_per_provider</th>\n",
              "      <th>average_length_of_stays_days</th>\n",
              "      <th>total_snf_charge_amount</th>\n",
              "      <th>total_snf_medicare_allowed_amount</th>\n",
              "      <th>total_snf_medicare_payment_amount</th>\n",
              "      <th>total_snf_medicare_standard_payment_amount</th>\n",
              "      <th>average_age</th>\n",
              "      <th>...</th>\n",
              "      <th>percent_of_beneficiaries_with_copd</th>\n",
              "      <th>percent_of_beneficiaries_with_depression</th>\n",
              "      <th>percent_of_beneficiaries_with_diabetes</th>\n",
              "      <th>percent_of_beneficiaries_with_hyperlipidemia</th>\n",
              "      <th>percent_of_beneficiaries_with_hypertension</th>\n",
              "      <th>percent_of_beneficiaries_with_ihd</th>\n",
              "      <th>percent_of_beneficiaries_with_osteoporosis</th>\n",
              "      <th>percent_of_beneficiaries_with_ra_oa</th>\n",
              "      <th>percent_of_beneficiaries_with_schizophrenia</th>\n",
              "      <th>percent_of_beneficiaries_with_stroke</th>\n",
              "    </tr>\n",
              "  </thead>\n",
              "  <tbody>\n",
              "    <tr>\n",
              "      <th>count</th>\n",
              "      <td>15026.00000</td>\n",
              "      <td>15026.000000</td>\n",
              "      <td>15026.000000</td>\n",
              "      <td>15026.000000</td>\n",
              "      <td>15026.000000</td>\n",
              "      <td>1.502600e+04</td>\n",
              "      <td>1.502600e+04</td>\n",
              "      <td>1.502600e+04</td>\n",
              "      <td>1.502600e+04</td>\n",
              "      <td>15026.000000</td>\n",
              "      <td>...</td>\n",
              "      <td>14991.000000</td>\n",
              "      <td>14619.000000</td>\n",
              "      <td>14872.000000</td>\n",
              "      <td>13629.000000</td>\n",
              "      <td>231.000000</td>\n",
              "      <td>13917.000000</td>\n",
              "      <td>15024.000000</td>\n",
              "      <td>14318.000000</td>\n",
              "      <td>14885.000000</td>\n",
              "      <td>15026.000000</td>\n",
              "    </tr>\n",
              "    <tr>\n",
              "      <th>mean</th>\n",
              "      <td>295268.93438</td>\n",
              "      <td>49548.870957</td>\n",
              "      <td>166.301544</td>\n",
              "      <td>132.337149</td>\n",
              "      <td>28.130075</td>\n",
              "      <td>2.979363e+06</td>\n",
              "      <td>2.186786e+06</td>\n",
              "      <td>1.804748e+06</td>\n",
              "      <td>1.856649e+06</td>\n",
              "      <td>78.644150</td>\n",
              "      <td>...</td>\n",
              "      <td>37.509572</td>\n",
              "      <td>49.233805</td>\n",
              "      <td>46.587614</td>\n",
              "      <td>61.395407</td>\n",
              "      <td>69.891775</td>\n",
              "      <td>57.198031</td>\n",
              "      <td>18.347378</td>\n",
              "      <td>54.852284</td>\n",
              "      <td>20.156869</td>\n",
              "      <td>18.018967</td>\n",
              "    </tr>\n",
              "    <tr>\n",
              "      <th>std</th>\n",
              "      <td>172245.62168</td>\n",
              "      <td>26818.941024</td>\n",
              "      <td>151.793460</td>\n",
              "      <td>123.906842</td>\n",
              "      <td>7.383997</td>\n",
              "      <td>3.274693e+06</td>\n",
              "      <td>2.123067e+06</td>\n",
              "      <td>1.811159e+06</td>\n",
              "      <td>1.734586e+06</td>\n",
              "      <td>4.686173</td>\n",
              "      <td>...</td>\n",
              "      <td>10.540757</td>\n",
              "      <td>10.952155</td>\n",
              "      <td>10.988216</td>\n",
              "      <td>9.270699</td>\n",
              "      <td>6.134115</td>\n",
              "      <td>10.022661</td>\n",
              "      <td>7.990701</td>\n",
              "      <td>10.606628</td>\n",
              "      <td>12.137511</td>\n",
              "      <td>6.689469</td>\n",
              "    </tr>\n",
              "    <tr>\n",
              "      <th>min</th>\n",
              "      <td>10007.00000</td>\n",
              "      <td>660.000000</td>\n",
              "      <td>11.000000</td>\n",
              "      <td>11.000000</td>\n",
              "      <td>2.000000</td>\n",
              "      <td>2.197800e+04</td>\n",
              "      <td>7.064000e+03</td>\n",
              "      <td>7.064000e+03</td>\n",
              "      <td>8.150000e+03</td>\n",
              "      <td>45.000000</td>\n",
              "      <td>...</td>\n",
              "      <td>0.000000</td>\n",
              "      <td>6.000000</td>\n",
              "      <td>0.000000</td>\n",
              "      <td>10.000000</td>\n",
              "      <td>38.000000</td>\n",
              "      <td>6.000000</td>\n",
              "      <td>0.000000</td>\n",
              "      <td>0.000000</td>\n",
              "      <td>0.000000</td>\n",
              "      <td>0.000000</td>\n",
              "    </tr>\n",
              "    <tr>\n",
              "      <th>25%</th>\n",
              "      <td>155325.50000</td>\n",
              "      <td>29349.000000</td>\n",
              "      <td>64.000000</td>\n",
              "      <td>50.000000</td>\n",
              "      <td>23.700000</td>\n",
              "      <td>1.015431e+06</td>\n",
              "      <td>8.021298e+05</td>\n",
              "      <td>6.372892e+05</td>\n",
              "      <td>6.925308e+05</td>\n",
              "      <td>76.000000</td>\n",
              "      <td>...</td>\n",
              "      <td>30.000000</td>\n",
              "      <td>42.000000</td>\n",
              "      <td>39.000000</td>\n",
              "      <td>56.000000</td>\n",
              "      <td>68.000000</td>\n",
              "      <td>51.000000</td>\n",
              "      <td>13.000000</td>\n",
              "      <td>48.000000</td>\n",
              "      <td>12.000000</td>\n",
              "      <td>14.000000</td>\n",
              "    </tr>\n",
              "    <tr>\n",
              "      <th>50%</th>\n",
              "      <td>265779.50000</td>\n",
              "      <td>48185.000000</td>\n",
              "      <td>123.000000</td>\n",
              "      <td>95.000000</td>\n",
              "      <td>27.800000</td>\n",
              "      <td>2.033186e+06</td>\n",
              "      <td>1.579600e+06</td>\n",
              "      <td>1.273338e+06</td>\n",
              "      <td>1.377898e+06</td>\n",
              "      <td>79.000000</td>\n",
              "      <td>...</td>\n",
              "      <td>37.000000</td>\n",
              "      <td>49.000000</td>\n",
              "      <td>47.000000</td>\n",
              "      <td>63.000000</td>\n",
              "      <td>72.000000</td>\n",
              "      <td>58.000000</td>\n",
              "      <td>18.000000</td>\n",
              "      <td>56.000000</td>\n",
              "      <td>17.000000</td>\n",
              "      <td>18.000000</td>\n",
              "    </tr>\n",
              "    <tr>\n",
              "      <th>75%</th>\n",
              "      <td>395718.75000</td>\n",
              "      <td>72014.250000</td>\n",
              "      <td>216.000000</td>\n",
              "      <td>172.000000</td>\n",
              "      <td>32.400000</td>\n",
              "      <td>3.764452e+06</td>\n",
              "      <td>2.856638e+06</td>\n",
              "      <td>2.337140e+06</td>\n",
              "      <td>2.435829e+06</td>\n",
              "      <td>82.000000</td>\n",
              "      <td>...</td>\n",
              "      <td>44.000000</td>\n",
              "      <td>57.000000</td>\n",
              "      <td>54.000000</td>\n",
              "      <td>68.000000</td>\n",
              "      <td>74.000000</td>\n",
              "      <td>65.000000</td>\n",
              "      <td>23.000000</td>\n",
              "      <td>63.000000</td>\n",
              "      <td>26.000000</td>\n",
              "      <td>22.000000</td>\n",
              "    </tr>\n",
              "    <tr>\n",
              "      <th>max</th>\n",
              "      <td>676372.00000</td>\n",
              "      <td>99901.000000</td>\n",
              "      <td>2026.000000</td>\n",
              "      <td>1772.000000</td>\n",
              "      <td>68.600000</td>\n",
              "      <td>1.017705e+08</td>\n",
              "      <td>2.720066e+07</td>\n",
              "      <td>2.415078e+07</td>\n",
              "      <td>2.041167e+07</td>\n",
              "      <td>92.000000</td>\n",
              "      <td>...</td>\n",
              "      <td>75.000000</td>\n",
              "      <td>75.000000</td>\n",
              "      <td>75.000000</td>\n",
              "      <td>75.000000</td>\n",
              "      <td>75.000000</td>\n",
              "      <td>75.000000</td>\n",
              "      <td>70.000000</td>\n",
              "      <td>75.000000</td>\n",
              "      <td>75.000000</td>\n",
              "      <td>59.000000</td>\n",
              "    </tr>\n",
              "  </tbody>\n",
              "</table>\n",
              "<p>8 rows × 37 columns</p>\n",
              "</div>\n",
              "      <button class=\"colab-df-convert\" onclick=\"convertToInteractive('df-fe37e6c0-839b-43b2-a62c-96a0f2480533')\"\n",
              "              title=\"Convert this dataframe to an interactive table.\"\n",
              "              style=\"display:none;\">\n",
              "        \n",
              "  <svg xmlns=\"http://www.w3.org/2000/svg\" height=\"24px\"viewBox=\"0 0 24 24\"\n",
              "       width=\"24px\">\n",
              "    <path d=\"M0 0h24v24H0V0z\" fill=\"none\"/>\n",
              "    <path d=\"M18.56 5.44l.94 2.06.94-2.06 2.06-.94-2.06-.94-.94-2.06-.94 2.06-2.06.94zm-11 1L8.5 8.5l.94-2.06 2.06-.94-2.06-.94L8.5 2.5l-.94 2.06-2.06.94zm10 10l.94 2.06.94-2.06 2.06-.94-2.06-.94-.94-2.06-.94 2.06-2.06.94z\"/><path d=\"M17.41 7.96l-1.37-1.37c-.4-.4-.92-.59-1.43-.59-.52 0-1.04.2-1.43.59L10.3 9.45l-7.72 7.72c-.78.78-.78 2.05 0 2.83L4 21.41c.39.39.9.59 1.41.59.51 0 1.02-.2 1.41-.59l7.78-7.78 2.81-2.81c.8-.78.8-2.07 0-2.86zM5.41 20L4 18.59l7.72-7.72 1.47 1.35L5.41 20z\"/>\n",
              "  </svg>\n",
              "      </button>\n",
              "      \n",
              "  <style>\n",
              "    .colab-df-container {\n",
              "      display:flex;\n",
              "      flex-wrap:wrap;\n",
              "      gap: 12px;\n",
              "    }\n",
              "\n",
              "    .colab-df-convert {\n",
              "      background-color: #E8F0FE;\n",
              "      border: none;\n",
              "      border-radius: 50%;\n",
              "      cursor: pointer;\n",
              "      display: none;\n",
              "      fill: #1967D2;\n",
              "      height: 32px;\n",
              "      padding: 0 0 0 0;\n",
              "      width: 32px;\n",
              "    }\n",
              "\n",
              "    .colab-df-convert:hover {\n",
              "      background-color: #E2EBFA;\n",
              "      box-shadow: 0px 1px 2px rgba(60, 64, 67, 0.3), 0px 1px 3px 1px rgba(60, 64, 67, 0.15);\n",
              "      fill: #174EA6;\n",
              "    }\n",
              "\n",
              "    [theme=dark] .colab-df-convert {\n",
              "      background-color: #3B4455;\n",
              "      fill: #D2E3FC;\n",
              "    }\n",
              "\n",
              "    [theme=dark] .colab-df-convert:hover {\n",
              "      background-color: #434B5C;\n",
              "      box-shadow: 0px 1px 3px 1px rgba(0, 0, 0, 0.15);\n",
              "      filter: drop-shadow(0px 1px 2px rgba(0, 0, 0, 0.3));\n",
              "      fill: #FFFFFF;\n",
              "    }\n",
              "  </style>\n",
              "\n",
              "      <script>\n",
              "        const buttonEl =\n",
              "          document.querySelector('#df-fe37e6c0-839b-43b2-a62c-96a0f2480533 button.colab-df-convert');\n",
              "        buttonEl.style.display =\n",
              "          google.colab.kernel.accessAllowed ? 'block' : 'none';\n",
              "\n",
              "        async function convertToInteractive(key) {\n",
              "          const element = document.querySelector('#df-fe37e6c0-839b-43b2-a62c-96a0f2480533');\n",
              "          const dataTable =\n",
              "            await google.colab.kernel.invokeFunction('convertToInteractive',\n",
              "                                                     [key], {});\n",
              "          if (!dataTable) return;\n",
              "\n",
              "          const docLinkHtml = 'Like what you see? Visit the ' +\n",
              "            '<a target=\"_blank\" href=https://colab.research.google.com/notebooks/data_table.ipynb>data table notebook</a>'\n",
              "            + ' to learn more about interactive tables.';\n",
              "          element.innerHTML = '';\n",
              "          dataTable['output_type'] = 'display_data';\n",
              "          await google.colab.output.renderOutput(dataTable, element);\n",
              "          const docLink = document.createElement('div');\n",
              "          docLink.innerHTML = docLinkHtml;\n",
              "          element.appendChild(docLink);\n",
              "        }\n",
              "      </script>\n",
              "    </div>\n",
              "  </div>\n",
              "  "
            ]
          },
          "metadata": {},
          "execution_count": 7
        }
      ]
    },
    {
      "cell_type": "markdown",
      "source": [
        "# Multiple Regression\n",
        "### Let's assume that we are interested in exploring the impact of several factors on the outcome `total_snf_medicare_payment_amount`"
      ],
      "metadata": {
        "id": "FZtqnES1i298"
      }
    },
    {
      "cell_type": "markdown",
      "source": [
        "## Step 1. We start with a simple regression model \n"
      ],
      "metadata": {
        "id": "BVDQM6kjrTyx"
      }
    },
    {
      "cell_type": "code",
      "source": [],
      "metadata": {
        "id": "n1FGo209qf35"
      },
      "execution_count": null,
      "outputs": []
    },
    {
      "cell_type": "markdown",
      "source": [
        "#### In previous labs we found that the factor `total_stays` was statistically significant, let's start with this factor"
      ],
      "metadata": {
        "id": "owwCDGW2rvN-"
      }
    },
    {
      "cell_type": "code",
      "source": [
        "sns.regplot(data=nursingFacilities,y='total_snf_medicare_payment_amount',x='total_stays',order=1,scatter_kws={\"s\": 10},line_kws={\"color\": \"C1\"})"
      ],
      "metadata": {
        "colab": {
          "base_uri": "https://localhost:8080/",
          "height": 482
        },
        "id": "2ElFjbVbhbiH",
        "outputId": "863cc2f1-f1e7-4644-924f-01fa36da6fdd"
      },
      "execution_count": null,
      "outputs": [
        {
          "output_type": "execute_result",
          "data": {
            "text/plain": [
              "<Axes: xlabel='total_stays', ylabel='total_snf_medicare_payment_amount'>"
            ]
          },
          "metadata": {},
          "execution_count": 8
        },
        {
          "output_type": "display_data",
          "data": {
            "text/plain": [
              "<Figure size 640x480 with 1 Axes>"
            ],
            "image/png": "[encoded data removed]"
          },
          "metadata": {}
        }
      ]
    },
    {
      "cell_type": "code",
      "source": [
        "reg = smf.ols(formula='total_snf_medicare_payment_amount ~ total_stays', data=nursingFacilities)"
      ],
      "metadata": {
        "id": "CqIomQeMhbfg"
      },
      "execution_count": null,
      "outputs": []
    },
    {
      "cell_type": "code",
      "source": [
        "results=reg.fit()"
      ],
      "metadata": {
        "id": "nf0OGhBeh9-z"
      },
      "execution_count": null,
      "outputs": []
    },
    {
      "cell_type": "code",
      "source": [
        "# Inspect the results\n",
        "print(results.summary())"
      ],
      "metadata": {
        "colab": {
          "base_uri": "https://localhost:8080/"
        },
        "id": "BtYR4IpdpkDP",
        "outputId": "fb532bbf-f2f1-4cfb-b321-a9c2a5fcd500"
      },
      "execution_count": null,
      "outputs": [
        {
          "output_type": "stream",
          "name": "stdout",
          "text": [
            "                                    OLS Regression Results                                   \n",
            "=============================================================================================\n",
            "Dep. Variable:     total_snf_medicare_payment_amount   R-squared:                       0.856\n",
            "Model:                                           OLS   Adj. R-squared:                  0.856\n",
            "Method:                                Least Squares   F-statistic:                 8.907e+04\n",
            "Date:                               Wed, 12 Apr 2023   Prob (F-statistic):               0.00\n",
            "Time:                                       08:58:55   Log-Likelihood:            -2.2329e+05\n",
            "No. Observations:                              15026   AIC:                         4.466e+05\n",
            "Df Residuals:                                  15024   BIC:                         4.466e+05\n",
            "Df Model:                                          1                                         \n",
            "Covariance Type:                           nonrobust                                         \n",
            "===============================================================================\n",
            "                  coef    std err          t      P>|t|      [0.025      0.975]\n",
            "-------------------------------------------------------------------------------\n",
            "Intercept   -3.075e+04   8326.721     -3.693      0.000   -4.71e+04   -1.44e+04\n",
            "total_stays  1.104e+04     36.982    298.449      0.000     1.1e+04    1.11e+04\n",
            "==============================================================================\n",
            "Omnibus:                     6237.191   Durbin-Watson:                   1.621\n",
            "Prob(Omnibus):                  0.000   Jarque-Bera (JB):           238373.585\n",
            "Skew:                           1.313   Prob(JB):                         0.00\n",
            "Kurtosis:                      22.335   Cond. No.                         334.\n",
            "==============================================================================\n",
            "\n",
            "Notes:\n",
            "[1] Standard Errors assume that the covariance matrix of the errors is correctly specified.\n"
          ]
        }
      ]
    },
    {
      "cell_type": "markdown",
      "source": [
        "## Based on the previous we have fitted the following model:\n",
        "\n",
        " total_snf_medicare_payment_amount=-30750+11040*total_stays+u \n",
        "\n"
      ],
      "metadata": {
        "id": "4CK3NGqajcZj"
      }
    },
    {
      "cell_type": "markdown",
      "source": [
        "## How do we interpret the equation?\n",
        "\n",
        "#### We can write the predicted change in total medicare payment amount as a function of the change of total stays:\n",
        "\n",
        " $\\Delta$total_snf_medicare_payment_amount=11040$\\Delta$total_stays\n",
        "\n",
        "#### This means that if the `total stays` increases by one unit , $\\Delta$total_stays=1, then total medicare payment is predicted to change by about 11040 dollars.\n",
        "\n",
        "#### This effect is statistically significant given that the p-value associated with the factor `total stays` is close to zero. The confidence interval is always different from zero [1.1e+04,1.11e+04]  "
      ],
      "metadata": {
        "id": "JSdD7IeUkhRt"
      }
    },
    {
      "cell_type": "code",
      "source": [
        "results.rsquared"
      ],
      "metadata": {
        "colab": {
          "base_uri": "https://localhost:8080/"
        },
        "id": "3FfcvsVnjKd3",
        "outputId": "90770284-6b48-46a7-aca2-9945d672a5a8"
      },
      "execution_count": null,
      "outputs": [
        {
          "output_type": "execute_result",
          "data": {
            "text/plain": [
              "0.8556710585880206"
            ]
          },
          "metadata": {},
          "execution_count": 13
        }
      ]
    },
    {
      "cell_type": "markdown",
      "source": [
        "### This is not a bad model, it is able to  explain 85%% of the total variation in medicare payments\n",
        "### Conversely, the current model leaves 15%% of the variation unexplained.\n",
        "\n",
        "### We can try to add additional factors to increase its explainability"
      ],
      "metadata": {
        "id": "VJRYVW22nWNp"
      }
    },
    {
      "cell_type": "code",
      "source": [],
      "metadata": {
        "id": "6CgAiUQWnVgd"
      },
      "execution_count": null,
      "outputs": []
    },
    {
      "cell_type": "code",
      "source": [],
      "metadata": {
        "id": "FZpKm8OQhbc8"
      },
      "execution_count": null,
      "outputs": []
    },
    {
      "cell_type": "markdown",
      "source": [
        "## Step 2. We incorporate an additional factor to the simple regression model \n",
        "\n"
      ],
      "metadata": {
        "id": "9CmNBX2MVm3p"
      }
    },
    {
      "cell_type": "code",
      "source": [
        "reg2 = smf.ols(formula='total_snf_medicare_payment_amount ~ total_stays+average_length_of_stays_days', data=nursingFacilities)"
      ],
      "metadata": {
        "id": "woFekqakoDfR"
      },
      "execution_count": null,
      "outputs": []
    },
    {
      "cell_type": "code",
      "source": [
        "results2=reg2.fit()"
      ],
      "metadata": {
        "id": "hXnLDNCEoEbm"
      },
      "execution_count": null,
      "outputs": []
    },
    {
      "cell_type": "code",
      "source": [
        "print(results2.summary())"
      ],
      "metadata": {
        "id": "GScm5xhfoEbm",
        "outputId": "0b72ddaf-bf3f-45fb-a874-7f273196cb64",
        "colab": {
          "base_uri": "https://localhost:8080/"
        }
      },
      "execution_count": null,
      "outputs": [
        {
          "output_type": "stream",
          "name": "stdout",
          "text": [
            "                                    OLS Regression Results                                   \n",
            "=============================================================================================\n",
            "Dep. Variable:     total_snf_medicare_payment_amount   R-squared:                       0.893\n",
            "Model:                                           OLS   Adj. R-squared:                  0.893\n",
            "Method:                                Least Squares   F-statistic:                 6.255e+04\n",
            "Date:                               Wed, 12 Apr 2023   Prob (F-statistic):               0.00\n",
            "Time:                                       09:21:51   Log-Likelihood:            -2.2106e+05\n",
            "No. Observations:                              15026   AIC:                         4.421e+05\n",
            "Df Residuals:                                  15023   BIC:                         4.422e+05\n",
            "Df Model:                                          2                                         \n",
            "Covariance Type:                           nonrobust                                         \n",
            "================================================================================================\n",
            "                                   coef    std err          t      P>|t|      [0.025      0.975]\n",
            "------------------------------------------------------------------------------------------------\n",
            "Intercept                    -1.465e+06   2.11e+04    -69.295      0.000   -1.51e+06   -1.42e+06\n",
            "total_stays                   1.151e+04     32.528    353.699      0.000    1.14e+04    1.16e+04\n",
            "average_length_of_stays_days  4.823e+04    668.690     72.122      0.000    4.69e+04    4.95e+04\n",
            "==============================================================================\n",
            "Omnibus:                     7189.441   Durbin-Watson:                   1.583\n",
            "Prob(Omnibus):                  0.000   Jarque-Bera (JB):           315368.465\n",
            "Skew:                           1.589   Prob(JB):                         0.00\n",
            "Kurtosis:                      25.217   Cond. No.                         988.\n",
            "==============================================================================\n",
            "\n",
            "Notes:\n",
            "[1] Standard Errors assume that the covariance matrix of the errors is correctly specified.\n"
          ]
        }
      ]
    },
    {
      "cell_type": "markdown",
      "source": [
        "## Based on the previous we have fitted the following model:\n",
        "$$ total\\_snf\\_medicare\\_payment\\_amount=-1465000+11510*total\\_stays+48230*average\\_lenght\\_of\\_stays\\_days+u $$\n",
        "\n",
        "#### Both factors `total stays` and `average length of stays days` are statistically significant (p-values close to zero). \n",
        "\n",
        "#### The confidence interval for `total stays` is positive and always different from zero [1.14e+04,1.16e+04]\n",
        "\n",
        "#### The confidence interval for `average length of stays days` is positive and always different from zero [4.69e+04,4.95e+04]\n"
      ],
      "metadata": {
        "id": "yrrXmc42WWin"
      }
    },
    {
      "cell_type": "markdown",
      "source": [
        "## How do we interpret the equation?\n",
        "\n",
        "#### We can write the predicted change in total medicare payment amount as a function of the change of total stays AND average lengh of stays days\n",
        "\n",
        "#### Each factor is considered to contribute independently to the change in the outcome:\n",
        "\n",
        "#### A one unit increase in total stays increases total medicare payment amount by 11510 dollars.\n",
        "\n",
        "#### A one unit increase in the average lenght of stays days increases total medicare payment amount by 48230 dollars"
      ],
      "metadata": {
        "id": "0oz-e6biWbAk"
      }
    },
    {
      "cell_type": "code",
      "source": [
        "results2.rsquared"
      ],
      "metadata": {
        "id": "QQ4Al2B7V57I",
        "outputId": "a3f459ca-8104-465f-b28d-f702e72d3a98",
        "colab": {
          "base_uri": "https://localhost:8080/"
        }
      },
      "execution_count": null,
      "outputs": [
        {
          "output_type": "execute_result",
          "data": {
            "text/plain": [
              "0.8927914757514595"
            ]
          },
          "metadata": {},
          "execution_count": 33
        }
      ]
    },
    {
      "cell_type": "markdown",
      "source": [
        "### This two factor model explains 89% of the total variance in medicare payments. This is really good\n",
        "#### We can keep adding other factors\n"
      ],
      "metadata": {
        "id": "o9faNzGbXczh"
      }
    },
    {
      "cell_type": "markdown",
      "source": [
        "## Step 3. We incorporate an additional factor to the simple regression model "
      ],
      "metadata": {
        "id": "EjuCSXsK0sqv"
      }
    },
    {
      "cell_type": "code",
      "source": [
        "reg3 = smf.ols(formula='total_snf_medicare_payment_amount ~ total_stays+average_length_of_stays_days+average_hcc_score+percent_of_beneficiaries_with_stroke', data=nursingFacilities)"
      ],
      "metadata": {
        "id": "jvPohWVmV54j"
      },
      "execution_count": null,
      "outputs": []
    },
    {
      "cell_type": "code",
      "source": [
        "results3=reg3.fit()"
      ],
      "metadata": {
        "id": "2o2tB-g90pcb"
      },
      "execution_count": null,
      "outputs": []
    },
    {
      "cell_type": "code",
      "source": [
        "print(results3.summary())"
      ],
      "metadata": {
        "colab": {
          "base_uri": "https://localhost:8080/"
        },
        "id": "X5vvA8Da0paG",
        "outputId": "0081ba9b-d52d-4912-f467-6f31fe386548"
      },
      "execution_count": null,
      "outputs": [
        {
          "output_type": "stream",
          "name": "stdout",
          "text": [
            "                                    OLS Regression Results                                   \n",
            "=============================================================================================\n",
            "Dep. Variable:     total_snf_medicare_payment_amount   R-squared:                       0.894\n",
            "Model:                                           OLS   Adj. R-squared:                  0.894\n",
            "Method:                                Least Squares   F-statistic:                 3.177e+04\n",
            "Date:                               Wed, 12 Apr 2023   Prob (F-statistic):               0.00\n",
            "Time:                                       10:04:48   Log-Likelihood:            -2.2095e+05\n",
            "No. Observations:                              15026   AIC:                         4.419e+05\n",
            "Df Residuals:                                  15021   BIC:                         4.420e+05\n",
            "Df Model:                                          4                                         \n",
            "Covariance Type:                           nonrobust                                         \n",
            "========================================================================================================\n",
            "                                           coef    std err          t      P>|t|      [0.025      0.975]\n",
            "--------------------------------------------------------------------------------------------------------\n",
            "Intercept                            -1.689e+06   2.62e+04    -64.520      0.000   -1.74e+06   -1.64e+06\n",
            "total_stays                           1.149e+04     32.412    354.403      0.000    1.14e+04    1.16e+04\n",
            "average_length_of_stays_days          4.567e+04    690.131     66.183      0.000    4.43e+04     4.7e+04\n",
            "average_hcc_score                     1.195e+05   8809.725     13.566      0.000    1.02e+05    1.37e+05\n",
            "percent_of_beneficiaries_with_stroke  1069.2391    766.039      1.396      0.163    -432.292    2570.770\n",
            "==============================================================================\n",
            "Omnibus:                     7320.402   Durbin-Watson:                   1.593\n",
            "Prob(Omnibus):                  0.000   Jarque-Bera (JB):           326349.950\n",
            "Skew:                           1.629   Prob(JB):                         0.00\n",
            "Kurtosis:                      25.597   Cond. No.                     1.25e+03\n",
            "==============================================================================\n",
            "\n",
            "Notes:\n",
            "[1] Standard Errors assume that the covariance matrix of the errors is correctly specified.\n",
            "[2] The condition number is large, 1.25e+03. This might indicate that there are\n",
            "strong multicollinearity or other numerical problems.\n"
          ]
        }
      ]
    },
    {
      "cell_type": "markdown",
      "source": [
        "## Based on the previous we have fitted the following model:\n",
        "$$ total\\_snf\\_medicare\\_payment\\_amount=-1689000+11490*total\\_stays+45670*average\\_lenght\\_of\\_stays\\_days+119500*average\\_hcc\\_score+1069.23*percent\\_of\\_beneficiaries\\_with\\_stroke+u $$\n",
        "\n",
        "#### All factors are statistically significant (p-values close to zero) except for the factor `percent of beneficiaries with stroke` which is not statistically significant (p-value not close to zero).\n",
        "\n",
        "#### We also observe that the confidence interval for `percent of beneficiaries with stroke` crosses the zero value. This means that this factor is not relevant as far as predicting the outcome is concerned.\n",
        "\n",
        "#### Therefore we don't add this factor to our model."
      ],
      "metadata": {
        "id": "nhrHnXrl2cYx"
      }
    },
    {
      "cell_type": "code",
      "source": [],
      "metadata": {
        "id": "6e4l5aXKV5zT"
      },
      "execution_count": null,
      "outputs": []
    }
  ]
}